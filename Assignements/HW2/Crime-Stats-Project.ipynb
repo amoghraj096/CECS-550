{
 "cells": [
  {
   "cell_type": "markdown",
   "id": "55e6b918-afac-43e8-b338-43f8ac64014f",
   "metadata": {},
   "source": [
    "##  Deep Neural Networks Project"
   ]
  },
  {
   "cell_type": "markdown",
   "id": "1a8e066d-2849-4a6e-9c71-bb98d605ae07",
   "metadata": {},
   "source": [
    "In this project, you will be working with a real-world data set from the Las Vegas Metropolitan Police Department. The dataset  contains information about the reported incidents, including the time and location of the crime, type of incident, and number of persons involved. "
   ]
  },
  {
   "cell_type": "markdown",
   "id": "9e87fac7-352a-4c39-b087-76254b5e2743",
   "metadata": {},
   "source": [
    "The dataset is downloaded from the public docket at: \n",
    "https://opendata-lvmpd.hub.arcgis.com\n",
    "\n",
    "let's read the csv file and transform the data:"
   ]
  },
  {
   "cell_type": "code",
   "execution_count": 1,
   "id": "637211a4-582f-426b-a127-c3f284463f35",
   "metadata": {},
   "outputs": [],
   "source": [
    "import torch\n",
    "import pandas as pd\n",
    "from torch.utils.data import DataLoader, Dataset\n",
    "import matplotlib.pyplot as plt\n",
    "import seaborn as sns\n",
    "import numpy as np"
   ]
  },
  {
   "cell_type": "code",
   "execution_count": 2,
   "id": "bcf40b02-80b6-4abc-a662-f7ed50a65181",
   "metadata": {},
   "outputs": [],
   "source": [
    "orig_df = pd.read_csv('../../datasets/LVMPD-Stats.csv', parse_dates=['ReportedOn'])"
   ]
  },
  {
   "cell_type": "code",
   "execution_count": 3,
   "id": "e1ca1d15-3955-4971-a3c4-c1a73b62edda",
   "metadata": {},
   "outputs": [],
   "source": [
    "df = pd.read_csv('../../datasets/LVMPD-Stats.csv', parse_dates=['ReportedOn'],\n",
    "                 usecols = ['X', 'Y', 'ReportedOn',\n",
    "                            'Area_Command','NIBRSOffenseCode',\n",
    "                            'VictimCount' ] )\n",
    "\n",
    "df['DayOfWeek'] = df['ReportedOn'].dt.day_name()\n",
    "df['Time' ]     = df['ReportedOn'].dt.hour\n",
    "df.drop(columns = 'ReportedOn', inplace=True)"
   ]
  },
  {
   "cell_type": "code",
   "execution_count": 4,
   "id": "3ddc413d-ba3f-4204-bc18-7fdd4de8d221",
   "metadata": {},
   "outputs": [],
   "source": [
    "\n",
    "df['X'] = df['X'] \n",
    "df['Y'] = df['Y'] \n",
    "df['Time'] = pd.factorize(df['Time'])[0]\n",
    "df['DayOfWeek'] = pd.factorize(df['DayOfWeek'])[0]\n",
    "df.Area_Command = pd.factorize(df['Area_Command'])[0]\n",
    "df.VictimCount = pd.factorize(df['VictimCount'])[0]\n",
    "df.NIBRSOffenseCode = pd.factorize(df['NIBRSOffenseCode'])[0]\n",
    "df.dropna(inplace=True)"
   ]
  },
  {
   "cell_type": "code",
   "execution_count": 5,
   "id": "a9c6162f-9686-4195-818d-950a6368c686",
   "metadata": {},
   "outputs": [],
   "source": [
    "df= df[['X', 'Y', 'Area_Command', 'NIBRSOffenseCode',\n",
    "       'DayOfWeek', 'Time','VictimCount']]"
   ]
  },
  {
   "cell_type": "code",
   "execution_count": 6,
   "id": "a90bc78a-6d1b-4fe4-a1b0-8333aec1c851",
   "metadata": {},
   "outputs": [
    {
     "data": {
      "text/plain": [
       "(275, 7)"
      ]
     },
     "execution_count": 6,
     "metadata": {},
     "output_type": "execute_result"
    }
   ],
   "source": [
    "df.values.shape"
   ]
  },
  {
   "cell_type": "markdown",
   "id": "651605b1-8d2c-4d3e-a09e-9aef6e550fc6",
   "metadata": {},
   "source": [
    "# Goal\n",
    "The goal is to build a predictive model that is trained on the following data:\n",
    "* latitude and longitude (location)\n",
    "* Hour of the day\n",
    "* Day of the week\n",
    "* Area-of-command code: The police designation of the bureau of the operation.\n",
    "* Classification code for the crime committed\n",
    "  \n",
    "The predicted variable is the number of persons involved in the accident.\n"
   ]
  },
  {
   "cell_type": "markdown",
   "id": "0e54f0b8-83f9-4db9-88f9-f5a595342069",
   "metadata": {},
   "source": [
    "## Task 1\n",
    "### a) print a few rows of the values in the dataframe ``df`` and explain what each column of data means. "
   ]
  },
  {
   "cell_type": "code",
   "execution_count": 7,
   "id": "a806105a",
   "metadata": {},
   "outputs": [
    {
     "data": {
      "text/html": [
       "<div>\n",
       "<style scoped>\n",
       "    .dataframe tbody tr th:only-of-type {\n",
       "        vertical-align: middle;\n",
       "    }\n",
       "\n",
       "    .dataframe tbody tr th {\n",
       "        vertical-align: top;\n",
       "    }\n",
       "\n",
       "    .dataframe thead th {\n",
       "        text-align: right;\n",
       "    }\n",
       "</style>\n",
       "<table border=\"1\" class=\"dataframe\">\n",
       "  <thead>\n",
       "    <tr style=\"text-align: right;\">\n",
       "      <th></th>\n",
       "      <th>X</th>\n",
       "      <th>Y</th>\n",
       "      <th>Area_Command</th>\n",
       "      <th>NIBRSOffenseCode</th>\n",
       "      <th>DayOfWeek</th>\n",
       "      <th>Time</th>\n",
       "      <th>VictimCount</th>\n",
       "    </tr>\n",
       "  </thead>\n",
       "  <tbody>\n",
       "    <tr>\n",
       "      <th>0</th>\n",
       "      <td>-115.087518</td>\n",
       "      <td>36.216702</td>\n",
       "      <td>0</td>\n",
       "      <td>0</td>\n",
       "      <td>0</td>\n",
       "      <td>0</td>\n",
       "      <td>0</td>\n",
       "    </tr>\n",
       "    <tr>\n",
       "      <th>1</th>\n",
       "      <td>-115.240172</td>\n",
       "      <td>36.189693</td>\n",
       "      <td>1</td>\n",
       "      <td>1</td>\n",
       "      <td>1</td>\n",
       "      <td>1</td>\n",
       "      <td>0</td>\n",
       "    </tr>\n",
       "    <tr>\n",
       "      <th>2</th>\n",
       "      <td>-115.143088</td>\n",
       "      <td>36.181329</td>\n",
       "      <td>2</td>\n",
       "      <td>1</td>\n",
       "      <td>2</td>\n",
       "      <td>0</td>\n",
       "      <td>1</td>\n",
       "    </tr>\n",
       "    <tr>\n",
       "      <th>3</th>\n",
       "      <td>-115.225014</td>\n",
       "      <td>36.117633</td>\n",
       "      <td>3</td>\n",
       "      <td>1</td>\n",
       "      <td>1</td>\n",
       "      <td>2</td>\n",
       "      <td>2</td>\n",
       "    </tr>\n",
       "    <tr>\n",
       "      <th>4</th>\n",
       "      <td>-115.176708</td>\n",
       "      <td>36.095967</td>\n",
       "      <td>4</td>\n",
       "      <td>1</td>\n",
       "      <td>1</td>\n",
       "      <td>3</td>\n",
       "      <td>0</td>\n",
       "    </tr>\n",
       "  </tbody>\n",
       "</table>\n",
       "</div>"
      ],
      "text/plain": [
       "            X          Y  Area_Command  NIBRSOffenseCode  DayOfWeek  Time  \\\n",
       "0 -115.087518  36.216702             0                 0          0     0   \n",
       "1 -115.240172  36.189693             1                 1          1     1   \n",
       "2 -115.143088  36.181329             2                 1          2     0   \n",
       "3 -115.225014  36.117633             3                 1          1     2   \n",
       "4 -115.176708  36.095967             4                 1          1     3   \n",
       "\n",
       "   VictimCount  \n",
       "0            0  \n",
       "1            0  \n",
       "2            1  \n",
       "3            2  \n",
       "4            0  "
      ]
     },
     "execution_count": 7,
     "metadata": {},
     "output_type": "execute_result"
    }
   ],
   "source": [
    "df.head()"
   ]
  },
  {
   "cell_type": "markdown",
   "id": "c062db93",
   "metadata": {},
   "source": [
    "**X and Y :** represents the geographical location where the crime happened\n",
    "\n",
    "**Area_Command:** tells us the different geographical or territorial division within the jurisdiction where the crime took place\n",
    "\n",
    "**NIBRSOffenseCode:** National Incident-Based Reporting System Codes are numerical codes used to categorize and describe different types of criminal offenses\n",
    "\n",
    "**DayOfWeek:** the day of the week when the crime happened, like Sun, Mon, Tue etc. \n",
    "\n",
    "**Time:** hour of the day when the crime happened.\n",
    "\n",
    "**VictimCount:** number of victims involved in the crime."
   ]
  },
  {
   "cell_type": "markdown",
   "id": "d35c1afc",
   "metadata": {},
   "source": [
    "### b) Identify the input and target variables"
   ]
  },
  {
   "cell_type": "markdown",
   "id": "1e4a5345",
   "metadata": {},
   "source": [
    "**Input Variables:** X, Y, Area_Command, NIBRSOffenseCode, DayOfWeek, Time \n",
    "\n",
    "**Output Variable:** VictimCount"
   ]
  },
  {
   "cell_type": "markdown",
   "id": "b11c4700",
   "metadata": {},
   "source": [
    "### c) what is the range of values in each column? Do you need to scale, shift or normalize your data? \n"
   ]
  },
  {
   "cell_type": "code",
   "execution_count": 8,
   "id": "173d6e82",
   "metadata": {},
   "outputs": [
    {
     "name": "stdout",
     "output_type": "stream",
     "text": [
      "\u001b[1mX:\u001b[0m -116.0 to -114.6255705\n",
      "\u001b[1mY:\u001b[0m 35.0684190000001 to 37.0000000000001\n",
      "\u001b[1mArea_Command:\u001b[0m 0 to 11\n",
      "\u001b[1mNIBRSOffenseCode:\u001b[0m 0 to 2\n",
      "\u001b[1mDayOfWeek:\u001b[0m 0 to 6\n",
      "\u001b[1mTime:\u001b[0m 0 to 23\n",
      "\u001b[1mVictimCount:\u001b[0m 0 to 6\n"
     ]
    }
   ],
   "source": [
    "column_ranges = {}\n",
    "\n",
    "for column in df.columns:\n",
    "    min_value = df[column].min()\n",
    "    max_value = df[column].max()\n",
    "    column_ranges[column] = (min_value, max_value)\n",
    "\n",
    "for column, (min_value, max_value) in column_ranges.items():\n",
    "    print(f\"\\033[1m{column}:\\033[0m {min_value} to {max_value}\")\n"
   ]
  },
  {
   "cell_type": "code",
   "execution_count": 9,
   "id": "f4e6deb0",
   "metadata": {},
   "outputs": [
    {
     "data": {
      "text/html": [
       "<div>\n",
       "<style scoped>\n",
       "    .dataframe tbody tr th:only-of-type {\n",
       "        vertical-align: middle;\n",
       "    }\n",
       "\n",
       "    .dataframe tbody tr th {\n",
       "        vertical-align: top;\n",
       "    }\n",
       "\n",
       "    .dataframe thead th {\n",
       "        text-align: right;\n",
       "    }\n",
       "</style>\n",
       "<table border=\"1\" class=\"dataframe\">\n",
       "  <thead>\n",
       "    <tr style=\"text-align: right;\">\n",
       "      <th></th>\n",
       "      <th>X</th>\n",
       "      <th>Y</th>\n",
       "      <th>Area_Command</th>\n",
       "      <th>NIBRSOffenseCode</th>\n",
       "      <th>DayOfWeek</th>\n",
       "      <th>Time</th>\n",
       "      <th>VictimCount</th>\n",
       "    </tr>\n",
       "  </thead>\n",
       "  <tbody>\n",
       "    <tr>\n",
       "      <th>0</th>\n",
       "      <td>0.663899</td>\n",
       "      <td>0.594478</td>\n",
       "      <td>0</td>\n",
       "      <td>0</td>\n",
       "      <td>0</td>\n",
       "      <td>0</td>\n",
       "      <td>0</td>\n",
       "    </tr>\n",
       "    <tr>\n",
       "      <th>1</th>\n",
       "      <td>0.552832</td>\n",
       "      <td>0.580495</td>\n",
       "      <td>1</td>\n",
       "      <td>1</td>\n",
       "      <td>1</td>\n",
       "      <td>1</td>\n",
       "      <td>0</td>\n",
       "    </tr>\n",
       "    <tr>\n",
       "      <th>2</th>\n",
       "      <td>0.623467</td>\n",
       "      <td>0.576165</td>\n",
       "      <td>2</td>\n",
       "      <td>1</td>\n",
       "      <td>2</td>\n",
       "      <td>0</td>\n",
       "      <td>1</td>\n",
       "    </tr>\n",
       "    <tr>\n",
       "      <th>3</th>\n",
       "      <td>0.563860</td>\n",
       "      <td>0.543189</td>\n",
       "      <td>3</td>\n",
       "      <td>1</td>\n",
       "      <td>1</td>\n",
       "      <td>2</td>\n",
       "      <td>2</td>\n",
       "    </tr>\n",
       "    <tr>\n",
       "      <th>4</th>\n",
       "      <td>0.599006</td>\n",
       "      <td>0.531973</td>\n",
       "      <td>4</td>\n",
       "      <td>1</td>\n",
       "      <td>1</td>\n",
       "      <td>3</td>\n",
       "      <td>0</td>\n",
       "    </tr>\n",
       "  </tbody>\n",
       "</table>\n",
       "</div>"
      ],
      "text/plain": [
       "          X         Y  Area_Command  NIBRSOffenseCode  DayOfWeek  Time  \\\n",
       "0  0.663899  0.594478             0                 0          0     0   \n",
       "1  0.552832  0.580495             1                 1          1     1   \n",
       "2  0.623467  0.576165             2                 1          2     0   \n",
       "3  0.563860  0.543189             3                 1          1     2   \n",
       "4  0.599006  0.531973             4                 1          1     3   \n",
       "\n",
       "   VictimCount  \n",
       "0            0  \n",
       "1            0  \n",
       "2            1  \n",
       "3            2  \n",
       "4            0  "
      ]
     },
     "execution_count": 9,
     "metadata": {},
     "output_type": "execute_result"
    }
   ],
   "source": [
    "from sklearn.preprocessing import MinMaxScaler\n",
    "\n",
    "# Define the columns to normalize\n",
    "columns_to_normalize = ['X', 'Y']\n",
    "\n",
    "# Create a MinMaxScaler\n",
    "scaler = MinMaxScaler()\n",
    "\n",
    "# Fit the scaler to the specified columns and transform the data\n",
    "df_normalized = df.copy()  # Create a copy of the original DataFrame\n",
    "df_normalized[columns_to_normalize] = scaler.fit_transform(df[columns_to_normalize])\n",
    "df_normalized.head()"
   ]
  },
  {
   "cell_type": "markdown",
   "id": "b517db58",
   "metadata": {},
   "source": [
    "I have normalized the X and Y values in the range of 0 - 1 using MinMaxScaler( ) to bring it closer to the values of other columns, but it didn't make much of a difference."
   ]
  },
  {
   "cell_type": "markdown",
   "id": "5549ecc9-3c0b-4efa-9a1f-340a25a1e4be",
   "metadata": {},
   "source": [
    "## Task 2 \n",
    "\n",
    "* Create two `DataLoader` objects for training and testing based on the input and output variables. Pick a reasonable batch size and verify the shape of data by iterating over the one dataset and printing the shape of the batched data. "
   ]
  },
  {
   "cell_type": "code",
   "execution_count": 10,
   "id": "289f2b89",
   "metadata": {},
   "outputs": [
    {
     "name": "stdout",
     "output_type": "stream",
     "text": [
      "Input shape: torch.Size([32, 6])\n",
      "Output shape: torch.Size([32])\n",
      "Output shape: torch.Size([32, 1])\n"
     ]
    }
   ],
   "source": [
    "import torch\n",
    "from torch.utils.data import DataLoader, TensorDataset\n",
    "\n",
    "# Convert the DataFrame to a PyTorch tensor\n",
    "data_tensor = torch.tensor(df.values, dtype=torch.float32)\n",
    "\n",
    "# Separate the input features (X) and target (Y)\n",
    "X = data_tensor[:, :-1]  # Select all columns except the last one\n",
    "Y = data_tensor[:, -1]   # Select the last column 'VictimCount'\n",
    "\n",
    "# Define batch size\n",
    "batch_size = 32\n",
    "\n",
    "# Create training and testing datasets\n",
    "dataset = TensorDataset(X, Y)\n",
    "\n",
    "# Split the data into training and testing sets (80% training, 20% testing)\n",
    "train_size = int(0.8 * len(dataset))\n",
    "test_size = len(dataset) - train_size\n",
    "\n",
    "train_dataset, test_dataset = torch.utils.data.random_split(dataset, [train_size, test_size])\n",
    "\n",
    "# Create DataLoader objects for training and testing\n",
    "train_loader = DataLoader(train_dataset, batch_size=batch_size, shuffle=True)\n",
    "test_loader = DataLoader(test_dataset, batch_size=batch_size, shuffle=False)\n",
    "\n",
    "for batch in train_loader:\n",
    "    inputs, outputs = batch\n",
    "    print(\"Input shape:\", inputs.shape)\n",
    "    print(\"Output shape:\", outputs.shape)\n",
    "    break\n",
    "\n",
    "# Ensure the output shape is (batch_size, 1)\n",
    "outputs = outputs.unsqueeze(1)\n",
    "print(\"Output shape:\", outputs.shape)\n"
   ]
  },
  {
   "cell_type": "markdown",
   "id": "1fb6f08c-5e70-4b14-b62c-4686d9f7aace",
   "metadata": {},
   "source": [
    "## Task 3\n",
    "In this task you will try to predict number of crime victims as a **real number**. Therefore the machine learning problem is a **regression** problem. \n",
    " "
   ]
  },
  {
   "cell_type": "markdown",
   "id": "aa775fb5",
   "metadata": {},
   "source": [
    "## <span style=\"font-size: 16px;\">**Q: What is the proper loss function for this task?**</span>\n",
    "<span style=\"font-size: 14px;\">**A:** The proper loss function for this problem is Mean Squared Error (MSE).</span>\n"
   ]
  },
  {
   "cell_type": "markdown",
   "id": "5d94fbec",
   "metadata": {},
   "source": [
    "## <span style=\"font-size: 16px;\">**Q: what should the size of the predicted output be?**</span>\n",
    "<span style=\"font-size: 14px;\">**A:** The size of the predicted output should be 1 numerical value</span>\n"
   ]
  },
  {
   "cell_type": "markdown",
   "id": "b5a93526",
   "metadata": {},
   "source": [
    "## <span style=\"font-size: 16px;\">**Q: explain your choice of architecture, including how many layers you will be using**</span>\n",
    "<span style=\"font-size: 14px;\">**A:** The common choice of architecture is to use feedforward neural network model (multi-layer perceptron or MLP)\n",
    "    \n",
    "Input Layer -> Hidden Layers -> Output Layer</span>\n"
   ]
  },
  {
   "cell_type": "markdown",
   "id": "b0d69577",
   "metadata": {},
   "source": [
    "## <span style=\"font-size: 16px;\">**Q: define an optimizer for training this model, choose a proper learning rate**</span>\n",
    "<span style=\"font-size: 14px;\">**A:** I have chosen Adam Optimizer for my model and 0.03 as learning rate</span>\n"
   ]
  },
  {
   "cell_type": "markdown",
   "id": "9c969b9d",
   "metadata": {},
   "source": [
    "\n",
    "### <span style=\"font-size: 14px;\">Write a training loop that obtains a batch out of the training data and calculates the forward and backward passes over the neural network. Call the optimizer to update the weights of the neural network.</span>\n",
    "\n",
    "### <span style=\"font-size: 14px;\">Write a for loop that continues the training over a number of epochs. At the end of each epoch, calculate the \"MSE\" error on the test data and print it.</span>\n",
    "\n",
    "### <span style=\"font-size: 14px;\">Is your model training well? Adjust the learning rate, hidden size of the network, and try different activation functions and the number of layers to achieve the best accuracy and report it.</span>\n"
   ]
  },
  {
   "cell_type": "code",
   "execution_count": 11,
   "id": "6713dc27",
   "metadata": {},
   "outputs": [
    {
     "name": "stdout",
     "output_type": "stream",
     "text": [
      "Epoch [1/100] - Loss: 1.2875936031341553\n",
      "Epoch [2/100] - Loss: 0.5405612587928772\n",
      "Epoch [3/100] - Loss: 1.0480891466140747\n",
      "Epoch [4/100] - Loss: 0.9180131554603577\n",
      "Epoch [5/100] - Loss: 1.6173757314682007\n",
      "Epoch [6/100] - Loss: 0.9384716749191284\n",
      "Epoch [7/100] - Loss: 0.36190059781074524\n",
      "Epoch [8/100] - Loss: 1.4042495489120483\n",
      "Epoch [9/100] - Loss: 1.3866288661956787\n",
      "Epoch [10/100] - Loss: 1.2998465299606323\n",
      "Epoch [11/100] - Loss: 1.2176567316055298\n",
      "Epoch [12/100] - Loss: 2.6233277320861816\n",
      "Epoch [13/100] - Loss: 0.8802658915519714\n",
      "Epoch [14/100] - Loss: 1.4575544595718384\n",
      "Epoch [15/100] - Loss: 1.2194023132324219\n",
      "Epoch [16/100] - Loss: 0.8631861805915833\n",
      "Epoch [17/100] - Loss: 0.7319805026054382\n",
      "Epoch [18/100] - Loss: 1.045519471168518\n",
      "Epoch [19/100] - Loss: 1.9188278913497925\n",
      "Epoch [20/100] - Loss: 1.1597455739974976\n",
      "Epoch [21/100] - Loss: 1.6885662078857422\n",
      "Epoch [22/100] - Loss: 0.6676391363143921\n",
      "Epoch [23/100] - Loss: 0.8408709168434143\n",
      "Epoch [24/100] - Loss: 0.9120165109634399\n",
      "Epoch [25/100] - Loss: 0.7460446953773499\n",
      "Epoch [26/100] - Loss: 0.8778215050697327\n",
      "Epoch [27/100] - Loss: 0.6479050517082214\n",
      "Epoch [28/100] - Loss: 1.6795120239257812\n",
      "Epoch [29/100] - Loss: 1.0732306241989136\n",
      "Epoch [30/100] - Loss: 1.1256911754608154\n",
      "Epoch [31/100] - Loss: 1.5969151258468628\n",
      "Epoch [32/100] - Loss: 0.5808688402175903\n",
      "Epoch [33/100] - Loss: 0.5113142728805542\n",
      "Epoch [34/100] - Loss: 1.0262771844863892\n",
      "Epoch [35/100] - Loss: 1.6680622100830078\n",
      "Epoch [36/100] - Loss: 0.7087684273719788\n",
      "Epoch [37/100] - Loss: 0.9102916717529297\n",
      "Epoch [38/100] - Loss: 1.2337714433670044\n",
      "Epoch [39/100] - Loss: 0.9173285365104675\n",
      "Epoch [40/100] - Loss: 0.8686217069625854\n",
      "Epoch [41/100] - Loss: 1.3434280157089233\n",
      "Epoch [42/100] - Loss: 1.1062742471694946\n",
      "Epoch [43/100] - Loss: 0.8303179740905762\n",
      "Epoch [44/100] - Loss: 0.9901560544967651\n",
      "Epoch [45/100] - Loss: 0.6524406671524048\n",
      "Epoch [46/100] - Loss: 1.787485122680664\n",
      "Epoch [47/100] - Loss: 0.7087150812149048\n",
      "Epoch [48/100] - Loss: 0.4643341898918152\n",
      "Epoch [49/100] - Loss: 0.27950793504714966\n",
      "Epoch [50/100] - Loss: 0.92066890001297\n",
      "Epoch [51/100] - Loss: 0.676808774471283\n",
      "Epoch [52/100] - Loss: 1.272501826286316\n",
      "Epoch [53/100] - Loss: 0.2758459448814392\n",
      "Epoch [54/100] - Loss: 0.7050797343254089\n",
      "Epoch [55/100] - Loss: 0.6868802905082703\n",
      "Epoch [56/100] - Loss: 0.7861160039901733\n",
      "Epoch [57/100] - Loss: 0.44390013813972473\n",
      "Epoch [58/100] - Loss: 1.052481770515442\n",
      "Epoch [59/100] - Loss: 0.45657438039779663\n",
      "Epoch [60/100] - Loss: 0.48716792464256287\n",
      "Epoch [61/100] - Loss: 0.7171275019645691\n",
      "Epoch [62/100] - Loss: 0.660883367061615\n",
      "Epoch [63/100] - Loss: 2.1055943965911865\n",
      "Epoch [64/100] - Loss: 0.6906806826591492\n",
      "Epoch [65/100] - Loss: 0.5622590184211731\n",
      "Epoch [66/100] - Loss: 0.9323482513427734\n",
      "Epoch [67/100] - Loss: 1.9060426950454712\n",
      "Epoch [68/100] - Loss: 0.7223722338676453\n",
      "Epoch [69/100] - Loss: 0.7638543248176575\n",
      "Epoch [70/100] - Loss: 1.343883752822876\n",
      "Epoch [71/100] - Loss: 0.7953647971153259\n",
      "Epoch [72/100] - Loss: 0.48378777503967285\n",
      "Epoch [73/100] - Loss: 0.7768303751945496\n",
      "Epoch [74/100] - Loss: 0.8472728729248047\n",
      "Epoch [75/100] - Loss: 0.7482529282569885\n",
      "Epoch [76/100] - Loss: 1.0278093814849854\n",
      "Epoch [77/100] - Loss: 0.8648310303688049\n",
      "Epoch [78/100] - Loss: 2.218750238418579\n",
      "Epoch [79/100] - Loss: 0.6824927926063538\n",
      "Epoch [80/100] - Loss: 1.583646535873413\n",
      "Epoch [81/100] - Loss: 0.4471629559993744\n",
      "Epoch [82/100] - Loss: 0.5392638444900513\n",
      "Epoch [83/100] - Loss: 0.8949162364006042\n",
      "Epoch [84/100] - Loss: 0.9562640190124512\n",
      "Epoch [85/100] - Loss: 1.2231369018554688\n",
      "Epoch [86/100] - Loss: 0.8496000170707703\n",
      "Epoch [87/100] - Loss: 2.2267074584960938\n",
      "Epoch [88/100] - Loss: 1.2792614698410034\n",
      "Epoch [89/100] - Loss: 0.5864421129226685\n",
      "Epoch [90/100] - Loss: 1.1883232593536377\n",
      "Epoch [91/100] - Loss: 1.3112640380859375\n",
      "Epoch [92/100] - Loss: 0.9870371222496033\n",
      "Epoch [93/100] - Loss: 1.5769535303115845\n",
      "Epoch [94/100] - Loss: 0.9115989804267883\n",
      "Epoch [95/100] - Loss: 0.56928551197052\n",
      "Epoch [96/100] - Loss: 2.0879509449005127\n",
      "Epoch [97/100] - Loss: 0.7751736044883728\n",
      "Epoch [98/100] - Loss: 0.6662777066230774\n",
      "Epoch [99/100] - Loss: 0.4123763144016266\n",
      "Epoch [100/100] - Loss: 0.6532091498374939\n",
      "Mean Test Loss: 0.7157190442085266\n"
     ]
    }
   ],
   "source": [
    "import torch.nn as nn\n",
    "import torch.optim as optim\n",
    "\n",
    "input_size = 6  \n",
    "hidden_size = 128\n",
    "output_size = 1  \n",
    "learning_rate = 0.03\n",
    "num_epochs = 100\n",
    "\n",
    "class DeepRegressionModel(nn.Module):\n",
    "    def __init__(self, input_size, hidden_size, output_size):\n",
    "        super(DeepRegressionModel, self).__init__()\n",
    "        self.fc1 = nn.Linear(input_size, hidden_size)\n",
    "        self.relu1 = nn.ReLU()\n",
    "        self.fc2 = nn.Linear(hidden_size, hidden_size)\n",
    "        self.relu2 = nn.ReLU()\n",
    "        self.fc3 = nn.Linear(hidden_size, hidden_size)\n",
    "        self.relu3 = nn.ReLU()\n",
    "        self.fc4 = nn.Linear(hidden_size, output_size)\n",
    "\n",
    "    def forward(self, x):\n",
    "        x = self.fc1(x)\n",
    "        x = self.relu1(x)\n",
    "        x = self.fc2(x)\n",
    "        x = self.relu2(x)\n",
    "        x = self.fc3(x)\n",
    "        x = self.relu3(x)\n",
    "        x = self.fc4(x)\n",
    "        return x\n",
    "\n",
    "# Create the model, loss function, and optimizer\n",
    "model = DeepRegressionModel(input_size, hidden_size, output_size)\n",
    "criterion = nn.MSELoss()  # Mean Squared Error loss\n",
    "optimizer = optim.Adam(model.parameters(), lr=learning_rate)\n",
    "\n",
    "# Training loop\n",
    "model.train()\n",
    "for epoch in range(num_epochs):\n",
    "    for batch in train_loader:\n",
    "        inputs, targets = batch\n",
    "\n",
    "        # Forward pass\n",
    "        outputs = model(inputs)\n",
    "\n",
    "        # Modify the shape of targets to (batch_size, 1)\n",
    "        targets = targets.unsqueeze(1)\n",
    "\n",
    "        # Compute the loss\n",
    "        loss = criterion(outputs, targets)\n",
    "\n",
    "        # Backpropagation and optimization\n",
    "        optimizer.zero_grad()\n",
    "        loss.backward()\n",
    "        optimizer.step()\n",
    "\n",
    "    print(f'Epoch [{epoch+1}/{num_epochs}] - Loss: {loss.item()}')\n",
    "\n",
    "# Evaluate the model on the test data\n",
    "model.eval()\n",
    "total_loss = 0.0\n",
    "with torch.no_grad():\n",
    "    for batch in test_loader:\n",
    "        inputs, targets = batch\n",
    "        outputs = model(inputs)\n",
    "\n",
    "        # Modify the shape of targets to (batch_size, 1)\n",
    "        targets = targets.unsqueeze(1)\n",
    "\n",
    "        loss = criterion(outputs, targets)\n",
    "        total_loss += loss.item()\n",
    "\n",
    "mean_loss = total_loss / len(test_loader)\n",
    "print(f'Mean Test Loss: {mean_loss}')\n"
   ]
  },
  {
   "cell_type": "markdown",
   "id": "86e3fc70-c6ce-4589-9930-128951290e8d",
   "metadata": {},
   "source": [
    "## Task 4 \n",
    "\n",
    "In this task, you will try to predict the number of crime victims as a **class number**. Therefore the machine learning problem is a **classification** problem. "
   ]
  },
  {
   "cell_type": "markdown",
   "id": "03c14d27",
   "metadata": {},
   "source": [
    "### a) How would you find the number of classes on the output data?\n",
    "In this implementation I have directly assigned the number of victims to the number of classes. \n"
   ]
  },
  {
   "cell_type": "markdown",
   "id": "f643bc0e",
   "metadata": {},
   "source": [
    "### b) How is the architecture different?\n",
    "This is a classification model, where task 3 is a regression model. In classification model we are trying to categorize the incidents into one of the 7 classes where in regression model we are trying to predict the victim count. \n",
    "\n",
    "\n",
    "This neural network model consists a few linear models, activation functions etc. But a different Loss function 'Cross Entropy'. It also evaluates accuracy\n"
   ]
  },
  {
   "cell_type": "markdown",
   "id": "051f085d",
   "metadata": {},
   "source": [
    "### c) How is the loss function different?\n",
    "Loss function here is Cross Entropy. Cross-entropy loss measures the dissimilarity between predicted probabilities and actual class labels, making it suitable for classification tasks, while mean squared error (MSE) measures the squared difference between predicted values and actual values, making it appropriate for regression tasks."
   ]
  },
  {
   "cell_type": "markdown",
   "id": "cc73310c",
   "metadata": {},
   "source": [
    "#### d) Repeat all the steps in task 3. Specifically, pay attention to the differences with regression.\n",
    "\n",
    "#### e) Calculate the Accuracy for test data as the number of correct classified outputs divided by the total number of test data in each epoch. Report it at the end of each epoch\n",
    "#### f) Try a few variations of learning rate, hidden dimensions, layers, etc. What is the best accuracy that you can get? "
   ]
  },
  {
   "cell_type": "markdown",
   "id": "f05a6850",
   "metadata": {},
   "source": [
    "Below is the simple classification model built similar to the regression model. ref: https://ashleyycz.medium.com/mnist-digit-classification-in-pytorch-302476b34e4f"
   ]
  },
  {
   "cell_type": "markdown",
   "id": "b9f79957",
   "metadata": {},
   "source": [
    "### Task 4.1\n",
    "\n",
    "### Classification"
   ]
  },
  {
   "cell_type": "code",
   "execution_count": 12,
   "id": "a219d772",
   "metadata": {},
   "outputs": [
    {
     "name": "stdout",
     "output_type": "stream",
     "text": [
      "Epoch [1/100] - Loss: 1.4455939531326294 - Accuracy: 0.4090909090909091\n",
      "Epoch [2/100] - Loss: 1.1357821226119995 - Accuracy: 0.4772727272727273\n",
      "Epoch [3/100] - Loss: 1.012437105178833 - Accuracy: 0.4681818181818182\n",
      "Epoch [4/100] - Loss: 1.1176329851150513 - Accuracy: 0.5227272727272727\n",
      "Epoch [5/100] - Loss: 1.2957384586334229 - Accuracy: 0.5272727272727272\n",
      "Epoch [6/100] - Loss: 1.1602948904037476 - Accuracy: 0.4727272727272727\n",
      "Epoch [7/100] - Loss: 0.9540772438049316 - Accuracy: 0.4681818181818182\n",
      "Epoch [8/100] - Loss: 1.017166256904602 - Accuracy: 0.5045454545454545\n",
      "Epoch [9/100] - Loss: 0.9128303527832031 - Accuracy: 0.44545454545454544\n",
      "Epoch [10/100] - Loss: 0.9995610117912292 - Accuracy: 0.4909090909090909\n",
      "Epoch [11/100] - Loss: 1.1542425155639648 - Accuracy: 0.4909090909090909\n",
      "Epoch [12/100] - Loss: 0.9137724041938782 - Accuracy: 0.5136363636363637\n",
      "Epoch [13/100] - Loss: 0.8444819450378418 - Accuracy: 0.5272727272727272\n",
      "Epoch [14/100] - Loss: 1.038568377494812 - Accuracy: 0.4590909090909091\n",
      "Epoch [15/100] - Loss: 1.1504018306732178 - Accuracy: 0.44545454545454544\n",
      "Epoch [16/100] - Loss: 1.149856448173523 - Accuracy: 0.4409090909090909\n",
      "Epoch [17/100] - Loss: 0.8889833688735962 - Accuracy: 0.4863636363636364\n",
      "Epoch [18/100] - Loss: 1.0572316646575928 - Accuracy: 0.4818181818181818\n",
      "Epoch [19/100] - Loss: 1.0155967473983765 - Accuracy: 0.5227272727272727\n",
      "Epoch [20/100] - Loss: 1.146895170211792 - Accuracy: 0.5318181818181819\n",
      "Epoch [21/100] - Loss: 1.020541787147522 - Accuracy: 0.5\n",
      "Epoch [22/100] - Loss: 0.9484685659408569 - Accuracy: 0.5272727272727272\n",
      "Epoch [23/100] - Loss: 0.9916993379592896 - Accuracy: 0.44545454545454544\n",
      "Epoch [24/100] - Loss: 0.7951787710189819 - Accuracy: 0.5136363636363637\n",
      "Epoch [25/100] - Loss: 0.9782816171646118 - Accuracy: 0.4954545454545455\n",
      "Epoch [26/100] - Loss: 0.9538677930831909 - Accuracy: 0.4590909090909091\n",
      "Epoch [27/100] - Loss: 1.0469328165054321 - Accuracy: 0.5454545454545454\n",
      "Epoch [28/100] - Loss: 0.8472194671630859 - Accuracy: 0.4681818181818182\n",
      "Epoch [29/100] - Loss: 1.2369688749313354 - Accuracy: 0.5227272727272727\n",
      "Epoch [30/100] - Loss: 0.9792495965957642 - Accuracy: 0.4909090909090909\n",
      "Epoch [31/100] - Loss: 1.1602814197540283 - Accuracy: 0.5227272727272727\n",
      "Epoch [32/100] - Loss: 0.9996851086616516 - Accuracy: 0.5136363636363637\n",
      "Epoch [33/100] - Loss: 0.9726715087890625 - Accuracy: 0.5227272727272727\n",
      "Epoch [34/100] - Loss: 1.2209417819976807 - Accuracy: 0.5227272727272727\n",
      "Epoch [35/100] - Loss: 0.8441689610481262 - Accuracy: 0.4863636363636364\n",
      "Epoch [36/100] - Loss: 0.874718964099884 - Accuracy: 0.509090909090909\n",
      "Epoch [37/100] - Loss: 1.143322229385376 - Accuracy: 0.5227272727272727\n",
      "Epoch [38/100] - Loss: 0.9076584577560425 - Accuracy: 0.5136363636363637\n",
      "Epoch [39/100] - Loss: 0.7552990913391113 - Accuracy: 0.5227272727272727\n",
      "Epoch [40/100] - Loss: 0.9728043675422668 - Accuracy: 0.5227272727272727\n",
      "Epoch [41/100] - Loss: 1.158179521560669 - Accuracy: 0.5181818181818182\n",
      "Epoch [42/100] - Loss: 1.1111496686935425 - Accuracy: 0.4818181818181818\n",
      "Epoch [43/100] - Loss: 0.9018096923828125 - Accuracy: 0.5181818181818182\n",
      "Epoch [44/100] - Loss: 0.9044280052185059 - Accuracy: 0.5136363636363637\n",
      "Epoch [45/100] - Loss: 1.070980429649353 - Accuracy: 0.5045454545454545\n",
      "Epoch [46/100] - Loss: 1.1947531700134277 - Accuracy: 0.509090909090909\n",
      "Epoch [47/100] - Loss: 1.1554845571517944 - Accuracy: 0.45454545454545453\n",
      "Epoch [48/100] - Loss: 1.1158502101898193 - Accuracy: 0.5181818181818182\n",
      "Epoch [49/100] - Loss: 1.0291613340377808 - Accuracy: 0.5136363636363637\n",
      "Epoch [50/100] - Loss: 1.5734913349151611 - Accuracy: 0.5181818181818182\n",
      "Epoch [51/100] - Loss: 1.0672647953033447 - Accuracy: 0.4863636363636364\n",
      "Epoch [52/100] - Loss: 1.099139928817749 - Accuracy: 0.5181818181818182\n",
      "Epoch [53/100] - Loss: 1.020845651626587 - Accuracy: 0.5136363636363637\n",
      "Epoch [54/100] - Loss: 1.2111139297485352 - Accuracy: 0.5318181818181819\n",
      "Epoch [55/100] - Loss: 0.8785573244094849 - Accuracy: 0.5136363636363637\n",
      "Epoch [56/100] - Loss: 0.9648656845092773 - Accuracy: 0.5181818181818182\n",
      "Epoch [57/100] - Loss: 1.1911338567733765 - Accuracy: 0.5\n",
      "Epoch [58/100] - Loss: 1.163987398147583 - Accuracy: 0.5227272727272727\n",
      "Epoch [59/100] - Loss: 1.0140984058380127 - Accuracy: 0.5272727272727272\n",
      "Epoch [60/100] - Loss: 0.7270720601081848 - Accuracy: 0.5227272727272727\n",
      "Epoch [61/100] - Loss: 1.1059070825576782 - Accuracy: 0.5227272727272727\n",
      "Epoch [62/100] - Loss: 0.9342133402824402 - Accuracy: 0.5409090909090909\n",
      "Epoch [63/100] - Loss: 1.0337843894958496 - Accuracy: 0.5181818181818182\n",
      "Epoch [64/100] - Loss: 1.0596339702606201 - Accuracy: 0.5272727272727272\n",
      "Epoch [65/100] - Loss: 0.9399385452270508 - Accuracy: 0.5318181818181819\n",
      "Epoch [66/100] - Loss: 1.1524403095245361 - Accuracy: 0.5181818181818182\n",
      "Epoch [67/100] - Loss: 1.0161092281341553 - Accuracy: 0.5181818181818182\n",
      "Epoch [68/100] - Loss: 1.1013559103012085 - Accuracy: 0.4954545454545455\n",
      "Epoch [69/100] - Loss: 0.9604412913322449 - Accuracy: 0.5136363636363637\n",
      "Epoch [70/100] - Loss: 1.0200499296188354 - Accuracy: 0.5181818181818182\n",
      "Epoch [71/100] - Loss: 1.1093119382858276 - Accuracy: 0.5045454545454545\n",
      "Epoch [72/100] - Loss: 0.9846606254577637 - Accuracy: 0.5\n",
      "Epoch [73/100] - Loss: 0.8320686221122742 - Accuracy: 0.5181818181818182\n",
      "Epoch [74/100] - Loss: 0.8874589800834656 - Accuracy: 0.5227272727272727\n",
      "Epoch [75/100] - Loss: 1.2258819341659546 - Accuracy: 0.5227272727272727\n",
      "Epoch [76/100] - Loss: 1.3104158639907837 - Accuracy: 0.5227272727272727\n",
      "Epoch [77/100] - Loss: 1.0056787729263306 - Accuracy: 0.5136363636363637\n",
      "Epoch [78/100] - Loss: 1.0765756368637085 - Accuracy: 0.5227272727272727\n",
      "Epoch [79/100] - Loss: 1.1356680393218994 - Accuracy: 0.509090909090909\n",
      "Epoch [80/100] - Loss: 1.0651484727859497 - Accuracy: 0.5272727272727272\n",
      "Epoch [81/100] - Loss: 1.179004430770874 - Accuracy: 0.5136363636363637\n",
      "Epoch [82/100] - Loss: 1.2762905359268188 - Accuracy: 0.5227272727272727\n",
      "Epoch [83/100] - Loss: 0.9846547245979309 - Accuracy: 0.5227272727272727\n",
      "Epoch [84/100] - Loss: 0.9931727647781372 - Accuracy: 0.5181818181818182\n",
      "Epoch [85/100] - Loss: 0.8576735258102417 - Accuracy: 0.5136363636363637\n",
      "Epoch [86/100] - Loss: 0.8340675234794617 - Accuracy: 0.509090909090909\n",
      "Epoch [87/100] - Loss: 0.9628626704216003 - Accuracy: 0.5318181818181819\n",
      "Epoch [88/100] - Loss: 1.0435965061187744 - Accuracy: 0.5181818181818182\n",
      "Epoch [89/100] - Loss: 0.9992606043815613 - Accuracy: 0.5363636363636364\n",
      "Epoch [90/100] - Loss: 0.8718986511230469 - Accuracy: 0.5318181818181819\n",
      "Epoch [91/100] - Loss: 0.9876328706741333 - Accuracy: 0.5136363636363637\n",
      "Epoch [92/100] - Loss: 0.9922177195549011 - Accuracy: 0.5181818181818182\n",
      "Epoch [93/100] - Loss: 1.0675647258758545 - Accuracy: 0.5318181818181819\n",
      "Epoch [94/100] - Loss: 0.9858227968215942 - Accuracy: 0.5227272727272727\n",
      "Epoch [95/100] - Loss: 0.9648019075393677 - Accuracy: 0.5454545454545454\n",
      "Epoch [96/100] - Loss: 0.995040774345398 - Accuracy: 0.5181818181818182\n",
      "Epoch [97/100] - Loss: 0.899957001209259 - Accuracy: 0.5272727272727272\n",
      "Epoch [98/100] - Loss: 1.0399940013885498 - Accuracy: 0.509090909090909\n",
      "Epoch [99/100] - Loss: 0.8434674143791199 - Accuracy: 0.5227272727272727\n",
      "Epoch [100/100] - Loss: 1.2685575485229492 - Accuracy: 0.5136363636363637\n",
      "Test Accuracy: 0.4727272727272727\n"
     ]
    }
   ],
   "source": [
    "import torch\n",
    "import torch.nn as nn\n",
    "import torch.optim as optim\n",
    "from torch.utils.data import DataLoader, TensorDataset\n",
    "from sklearn.metrics import accuracy_score\n",
    "\n",
    "# Define the input columns and the target column\n",
    "input_cols = [\"X\", \"Y\", \"Time\", \"Area_Command\", \"NIBRSOffenseCode\", \"DayOfWeek\"]\n",
    "output_col = \"VictimCount\"  # Assuming this is the original numeric column\n",
    "\n",
    "# Create tensors for inputs and original numeric outputs\n",
    "inputs = torch.tensor(df[input_cols].values, dtype=torch.float32)\n",
    "original_outputs = torch.tensor(df[output_col].values, dtype=torch.float32)\n",
    "\n",
    "# Define the number of classes (7 classes, VictimCount from 0 to 6)\n",
    "num_classes = 7  # Update the number of classes\n",
    "\n",
    "# Define batch size\n",
    "batch_size = 25\n",
    "\n",
    "# Create a DataLoader for the dataset\n",
    "dataset = TensorDataset(inputs, original_outputs)  # Use original numeric outputs\n",
    "train_size = int(0.8 * len(dataset))\n",
    "test_size = len(dataset) - train_size\n",
    "train_dataset, test_dataset = torch.utils.data.random_split(dataset, [train_size, test_size])\n",
    "train_loader = DataLoader(train_dataset, batch_size=batch_size, shuffle=True)\n",
    "test_loader = DataLoader(test_dataset, batch_size=batch_size, shuffle=False)\n",
    "\n",
    "# Model architecture for classification into 7 classes\n",
    "class ClassificationModel(nn.Module):\n",
    "    def __init__(self, input_size, hidden_size, num_classes):\n",
    "        super(ClassificationModel, self).__init__()\n",
    "        self.fc1 = nn.Linear(input_size, hidden_size)\n",
    "        self.relu1 = nn.ReLU()\n",
    "        self.fc2 = nn.Linear(hidden_size, hidden_size)\n",
    "        self.relu2 = nn.ReLU()\n",
    "        self.fc3 = nn.Linear(hidden_size, hidden_size)\n",
    "        self.relu3 = nn.ReLU()\n",
    "        self.fc4 = nn.Linear(hidden_size, num_classes)\n",
    "\n",
    "    def forward(self, x):\n",
    "        x = self.fc1(x)\n",
    "        x = self.relu1(x)\n",
    "        x = self.fc2(x)\n",
    "        x = self.relu2(x)\n",
    "        x = self.fc3(x)\n",
    "        x = self.relu3(x)\n",
    "        x = self.fc4(x)\n",
    "        return x\n",
    "\n",
    "# Set hyperparameters\n",
    "input_size = 6  # Number of input features\n",
    "hidden_size = 128  # Number of units in each hidden layer\n",
    "learning_rate = 0.001\n",
    "num_epochs = 100\n",
    "\n",
    "# Create the model, loss function, and optimizer\n",
    "model = ClassificationModel(input_size, hidden_size, num_classes)\n",
    "criterion = nn.CrossEntropyLoss()  # Cross-Entropy loss for classification\n",
    "optimizer = optim.Adam(model.parameters(), lr=learning_rate)\n",
    "\n",
    "# Training loop\n",
    "for epoch in range(num_epochs):\n",
    "    total_correct = 0\n",
    "    total_samples = 0\n",
    "\n",
    "    for batch in train_loader:\n",
    "        inputs, targets = batch\n",
    "\n",
    "        # Forward pass\n",
    "        outputs = model(inputs)\n",
    "\n",
    "        # Compute the loss\n",
    "        loss = criterion(outputs, targets.long())  # Use .long() for target values\n",
    "\n",
    "        # Backpropagation and optimization\n",
    "        optimizer.zero_grad()\n",
    "        loss.backward()\n",
    "        optimizer.step()\n",
    "\n",
    "        # Calculate accuracy\n",
    "        _, predicted = torch.max(outputs, 1)  # Get the class with the highest probability\n",
    "        total_correct += (predicted == targets).sum().item()\n",
    "        total_samples += targets.size(0)\n",
    "\n",
    "    accuracy = total_correct / total_samples\n",
    "    print(f'Epoch [{epoch+1}/{num_epochs}] - Loss: {loss.item()} - Accuracy: {accuracy}')\n",
    "\n",
    "# Evaluate the model on the test data\n",
    "model.eval()\n",
    "total_correct = 0\n",
    "total_samples = 0\n",
    "with torch.no_grad():\n",
    "    for batch in test_loader:\n",
    "        inputs, targets = batch\n",
    "        outputs = model(inputs)\n",
    "        _, predicted = torch.max(outputs, 1)\n",
    "        total_correct += (predicted == targets).sum().item()\n",
    "        total_samples += targets.size(0)\n",
    "\n",
    "test_accuracy = total_correct / total_samples\n",
    "print(f'Test Accuracy: {test_accuracy}')"
   ]
  },
  {
   "cell_type": "markdown",
   "id": "48b9a91e",
   "metadata": {},
   "source": [
    "### Task 4.2\n",
    "\n",
    "### Classification using Discretizing Victim Count\n",
    "\n",
    "In the below model, I am discretizing the victim count column into 3 classes called Low, Medium and High inorder to increase the accuracy. "
   ]
  },
  {
   "cell_type": "code",
   "execution_count": 13,
   "id": "7d929c52-af34-4081-92cd-3463a3fc4db1",
   "metadata": {},
   "outputs": [
    {
     "name": "stdout",
     "output_type": "stream",
     "text": [
      "Epoch [1/100] - Loss: 1.0733367204666138 - Accuracy: 0.759090909090909\n",
      "Epoch [2/100] - Loss: 0.47995179891586304 - Accuracy: 0.8818181818181818\n",
      "Epoch [3/100] - Loss: 0.3499149978160858 - Accuracy: 0.8818181818181818\n",
      "Epoch [4/100] - Loss: 0.28095653653144836 - Accuracy: 0.8818181818181818\n",
      "Epoch [5/100] - Loss: 0.3543579578399658 - Accuracy: 0.8818181818181818\n",
      "Epoch [6/100] - Loss: 0.6407853364944458 - Accuracy: 0.8818181818181818\n",
      "Epoch [7/100] - Loss: 0.3104253113269806 - Accuracy: 0.8818181818181818\n",
      "Epoch [8/100] - Loss: 0.2704768478870392 - Accuracy: 0.8818181818181818\n",
      "Epoch [9/100] - Loss: 0.5054503083229065 - Accuracy: 0.8818181818181818\n",
      "Epoch [10/100] - Loss: 0.4254915714263916 - Accuracy: 0.8818181818181818\n",
      "Epoch [11/100] - Loss: 0.6448277235031128 - Accuracy: 0.8818181818181818\n",
      "Epoch [12/100] - Loss: 0.1982075721025467 - Accuracy: 0.8818181818181818\n",
      "Epoch [13/100] - Loss: 0.29019695520401 - Accuracy: 0.8818181818181818\n",
      "Epoch [14/100] - Loss: 0.38591447472572327 - Accuracy: 0.8818181818181818\n",
      "Epoch [15/100] - Loss: 0.19117842614650726 - Accuracy: 0.8818181818181818\n",
      "Epoch [16/100] - Loss: 0.13476787507534027 - Accuracy: 0.8818181818181818\n",
      "Epoch [17/100] - Loss: 0.35002729296684265 - Accuracy: 0.8818181818181818\n",
      "Epoch [18/100] - Loss: 0.42260614037513733 - Accuracy: 0.8818181818181818\n",
      "Epoch [19/100] - Loss: 0.684170126914978 - Accuracy: 0.8818181818181818\n",
      "Epoch [20/100] - Loss: 0.4287404716014862 - Accuracy: 0.8818181818181818\n",
      "Epoch [21/100] - Loss: 0.5148218274116516 - Accuracy: 0.8818181818181818\n",
      "Epoch [22/100] - Loss: 0.3526652157306671 - Accuracy: 0.8818181818181818\n",
      "Epoch [23/100] - Loss: 0.5111704468727112 - Accuracy: 0.8818181818181818\n",
      "Epoch [24/100] - Loss: 0.34955042600631714 - Accuracy: 0.8818181818181818\n",
      "Epoch [25/100] - Loss: 0.20502279698848724 - Accuracy: 0.8818181818181818\n",
      "Epoch [26/100] - Loss: 0.2673019766807556 - Accuracy: 0.8818181818181818\n",
      "Epoch [27/100] - Loss: 0.7003822326660156 - Accuracy: 0.8818181818181818\n",
      "Epoch [28/100] - Loss: 0.1905384510755539 - Accuracy: 0.8818181818181818\n",
      "Epoch [29/100] - Loss: 0.18709103763103485 - Accuracy: 0.8818181818181818\n",
      "Epoch [30/100] - Loss: 0.433370977640152 - Accuracy: 0.8818181818181818\n",
      "Epoch [31/100] - Loss: 0.21249482035636902 - Accuracy: 0.8818181818181818\n",
      "Epoch [32/100] - Loss: 0.26741844415664673 - Accuracy: 0.8818181818181818\n",
      "Epoch [33/100] - Loss: 0.41373389959335327 - Accuracy: 0.8818181818181818\n",
      "Epoch [34/100] - Loss: 0.3580292761325836 - Accuracy: 0.8818181818181818\n",
      "Epoch [35/100] - Loss: 0.6040319800376892 - Accuracy: 0.8818181818181818\n",
      "Epoch [36/100] - Loss: 0.3004898726940155 - Accuracy: 0.8818181818181818\n",
      "Epoch [37/100] - Loss: 0.3538324534893036 - Accuracy: 0.8818181818181818\n",
      "Epoch [38/100] - Loss: 0.6427607536315918 - Accuracy: 0.8818181818181818\n",
      "Epoch [39/100] - Loss: 0.40963417291641235 - Accuracy: 0.8818181818181818\n",
      "Epoch [40/100] - Loss: 0.2973959445953369 - Accuracy: 0.8818181818181818\n",
      "Epoch [41/100] - Loss: 0.46201014518737793 - Accuracy: 0.8818181818181818\n",
      "Epoch [42/100] - Loss: 0.47592440247535706 - Accuracy: 0.8818181818181818\n",
      "Epoch [43/100] - Loss: 0.5183309316635132 - Accuracy: 0.8818181818181818\n",
      "Epoch [44/100] - Loss: 0.36493760347366333 - Accuracy: 0.8818181818181818\n",
      "Epoch [45/100] - Loss: 0.4418542981147766 - Accuracy: 0.8818181818181818\n",
      "Epoch [46/100] - Loss: 0.2730918228626251 - Accuracy: 0.8818181818181818\n",
      "Epoch [47/100] - Loss: 0.5047198534011841 - Accuracy: 0.8818181818181818\n",
      "Epoch [48/100] - Loss: 0.43402284383773804 - Accuracy: 0.8818181818181818\n",
      "Epoch [49/100] - Loss: 0.2559778392314911 - Accuracy: 0.8818181818181818\n",
      "Epoch [50/100] - Loss: 0.40617045760154724 - Accuracy: 0.8818181818181818\n",
      "Epoch [51/100] - Loss: 0.653108537197113 - Accuracy: 0.8818181818181818\n",
      "Epoch [52/100] - Loss: 0.36030301451683044 - Accuracy: 0.8818181818181818\n",
      "Epoch [53/100] - Loss: 0.5022986531257629 - Accuracy: 0.8818181818181818\n",
      "Epoch [54/100] - Loss: 0.3468739986419678 - Accuracy: 0.8818181818181818\n",
      "Epoch [55/100] - Loss: 0.6871423721313477 - Accuracy: 0.8818181818181818\n",
      "Epoch [56/100] - Loss: 0.37137338519096375 - Accuracy: 0.8818181818181818\n",
      "Epoch [57/100] - Loss: 0.48159536719322205 - Accuracy: 0.8818181818181818\n",
      "Epoch [58/100] - Loss: 0.22545258700847626 - Accuracy: 0.8818181818181818\n",
      "Epoch [59/100] - Loss: 0.5322855114936829 - Accuracy: 0.8818181818181818\n",
      "Epoch [60/100] - Loss: 0.4121291935443878 - Accuracy: 0.8818181818181818\n",
      "Epoch [61/100] - Loss: 0.323977530002594 - Accuracy: 0.8818181818181818\n",
      "Epoch [62/100] - Loss: 0.3812583386898041 - Accuracy: 0.8818181818181818\n",
      "Epoch [63/100] - Loss: 0.2698701024055481 - Accuracy: 0.8818181818181818\n",
      "Epoch [64/100] - Loss: 0.6538740396499634 - Accuracy: 0.8818181818181818\n",
      "Epoch [65/100] - Loss: 0.35421642661094666 - Accuracy: 0.8818181818181818\n",
      "Epoch [66/100] - Loss: 0.42800381779670715 - Accuracy: 0.8818181818181818\n",
      "Epoch [67/100] - Loss: 0.3940407335758209 - Accuracy: 0.8818181818181818\n",
      "Epoch [68/100] - Loss: 0.1789933294057846 - Accuracy: 0.8818181818181818\n",
      "Epoch [69/100] - Loss: 0.3280036449432373 - Accuracy: 0.8818181818181818\n",
      "Epoch [70/100] - Loss: 0.388876736164093 - Accuracy: 0.8818181818181818\n",
      "Epoch [71/100] - Loss: 0.2859286963939667 - Accuracy: 0.8818181818181818\n",
      "Epoch [72/100] - Loss: 0.18121148645877838 - Accuracy: 0.8818181818181818\n",
      "Epoch [73/100] - Loss: 0.40544143319129944 - Accuracy: 0.8818181818181818\n",
      "Epoch [74/100] - Loss: 0.36251893639564514 - Accuracy: 0.8818181818181818\n",
      "Epoch [75/100] - Loss: 0.3186502754688263 - Accuracy: 0.8818181818181818\n",
      "Epoch [76/100] - Loss: 0.3217499554157257 - Accuracy: 0.8818181818181818\n",
      "Epoch [77/100] - Loss: 0.5038111805915833 - Accuracy: 0.8818181818181818\n",
      "Epoch [78/100] - Loss: 0.7483723759651184 - Accuracy: 0.8818181818181818\n",
      "Epoch [79/100] - Loss: 0.5386561155319214 - Accuracy: 0.8818181818181818\n",
      "Epoch [80/100] - Loss: 0.5118042230606079 - Accuracy: 0.8818181818181818\n",
      "Epoch [81/100] - Loss: 0.5887104868888855 - Accuracy: 0.8818181818181818\n",
      "Epoch [82/100] - Loss: 0.6344375014305115 - Accuracy: 0.8818181818181818\n",
      "Epoch [83/100] - Loss: 0.31722313165664673 - Accuracy: 0.8818181818181818\n",
      "Epoch [84/100] - Loss: 0.3075435757637024 - Accuracy: 0.8818181818181818\n",
      "Epoch [85/100] - Loss: 0.641764760017395 - Accuracy: 0.8818181818181818\n",
      "Epoch [86/100] - Loss: 0.3017909526824951 - Accuracy: 0.8818181818181818\n",
      "Epoch [87/100] - Loss: 0.3192816376686096 - Accuracy: 0.8818181818181818\n",
      "Epoch [88/100] - Loss: 0.4467150866985321 - Accuracy: 0.8818181818181818\n",
      "Epoch [89/100] - Loss: 0.31078529357910156 - Accuracy: 0.8818181818181818\n",
      "Epoch [90/100] - Loss: 0.33288970589637756 - Accuracy: 0.8818181818181818\n",
      "Epoch [91/100] - Loss: 0.47423866391181946 - Accuracy: 0.8818181818181818\n",
      "Epoch [92/100] - Loss: 0.555428683757782 - Accuracy: 0.8818181818181818\n",
      "Epoch [93/100] - Loss: 0.4991723597049713 - Accuracy: 0.8818181818181818\n",
      "Epoch [94/100] - Loss: 0.3834834098815918 - Accuracy: 0.8818181818181818\n",
      "Epoch [95/100] - Loss: 0.3639476001262665 - Accuracy: 0.8818181818181818\n",
      "Epoch [96/100] - Loss: 0.48140138387680054 - Accuracy: 0.8818181818181818\n",
      "Epoch [97/100] - Loss: 0.37771371006965637 - Accuracy: 0.8818181818181818\n",
      "Epoch [98/100] - Loss: 0.449341356754303 - Accuracy: 0.8818181818181818\n",
      "Epoch [99/100] - Loss: 0.5599814653396606 - Accuracy: 0.8818181818181818\n",
      "Epoch [100/100] - Loss: 0.31037816405296326 - Accuracy: 0.8818181818181818\n",
      "Test Accuracy: 0.8727272727272727\n"
     ]
    }
   ],
   "source": [
    "import torch\n",
    "import torch.nn as nn\n",
    "import torch.optim as optim\n",
    "from torch.utils.data import DataLoader, TensorDataset\n",
    "from sklearn.metrics import accuracy_score\n",
    "\n",
    "# Define the input columns and the target column\n",
    "input_cols = [\"X\", \"Y\", \"Time\", \"Area_Command\", \"NIBRSOffenseCode\", \"DayOfWeek\"]\n",
    "output_col = \"VictimCount\"  # Assuming this is the original numeric column\n",
    "\n",
    "# Create tensors for inputs and original numeric outputs\n",
    "inputs = torch.tensor(df[input_cols].values, dtype=torch.float32)\n",
    "original_outputs = torch.tensor(df[output_col].values, dtype=torch.float32)\n",
    "\n",
    "# Discretize 'VictimCount' into classes (e.g., 'Low', 'Medium', 'High')\n",
    "thresholds = [1, 3]\n",
    "class_labels = torch.zeros_like(original_outputs)\n",
    "class_labels[original_outputs <= thresholds[0]] = 0  # Low class\n",
    "class_labels[(original_outputs > thresholds[0]) & (original_outputs <= thresholds[1])] = 1  # Medium class\n",
    "class_labels[original_outputs > thresholds[1]] = 2  # High class\n",
    "\n",
    "# Define the number of classes\n",
    "num_classes = 3\n",
    "\n",
    "# Define batch size\n",
    "batch_size = 32\n",
    "\n",
    "# Create a DataLoader for the dataset\n",
    "dataset = TensorDataset(inputs, class_labels)\n",
    "train_size = int(0.8 * len(dataset))\n",
    "test_size = len(dataset) - train_size\n",
    "train_dataset, test_dataset = torch.utils.data.random_split(dataset, [train_size, test_size])\n",
    "train_loader = DataLoader(train_dataset, batch_size=batch_size, shuffle=True)\n",
    "test_loader = DataLoader(test_dataset, batch_size=batch_size, shuffle=False)\n",
    "\n",
    "# Model architecture for classification\n",
    "class ClassificationModel(nn.Module):\n",
    "    def __init__(self, input_size, hidden_size, num_classes):\n",
    "        super(ClassificationModel, self).__init__()\n",
    "        self.fc1 = nn.Linear(input_size, hidden_size)\n",
    "        self.relu1 = nn.ReLU()\n",
    "        self.fc2 = nn.Linear(hidden_size, hidden_size)\n",
    "        self.relu2 = nn.ReLU()\n",
    "        self.fc3 = nn.Linear(hidden_size, hidden_size)\n",
    "        self.relu3 = nn.ReLU()\n",
    "        self.fc4 = nn.Linear(hidden_size, num_classes)\n",
    "\n",
    "    def forward(self, x):\n",
    "        x = self.fc1(x)\n",
    "        x = self.relu1(x)\n",
    "        x = self.fc2(x)\n",
    "        x = self.relu2(x)\n",
    "        x = self.fc3(x)\n",
    "        x = self.relu3(x)\n",
    "        x = self.fc4(x)\n",
    "        return x\n",
    "\n",
    "# Set hyperparameters\n",
    "input_size = 6  # Number of input features\n",
    "hidden_size = 128  # Number of units in each hidden layer\n",
    "learning_rate = 0.001\n",
    "num_epochs = 100\n",
    "\n",
    "# Create the model, loss function, and optimizer\n",
    "model = ClassificationModel(input_size, hidden_size, num_classes)\n",
    "criterion = nn.CrossEntropyLoss()  # Cross-Entropy loss for classification\n",
    "optimizer = optim.Adam(model.parameters(), lr=learning_rate)\n",
    "\n",
    "# Training loop\n",
    "for epoch in range(num_epochs):\n",
    "    total_correct = 0\n",
    "    total_samples = 0\n",
    "\n",
    "    for batch in train_loader:\n",
    "        inputs, targets = batch\n",
    "\n",
    "        # Forward pass\n",
    "        outputs = model(inputs)\n",
    "\n",
    "        # Compute the loss\n",
    "        loss = criterion(outputs, targets.long())  # Use .long() for target values\n",
    "\n",
    "        # Backpropagation and optimization\n",
    "        optimizer.zero_grad()\n",
    "        loss.backward()\n",
    "        optimizer.step()\n",
    "\n",
    "        # Calculate accuracy\n",
    "        _, predicted = torch.max(outputs, 1)  # Get the class with the highest probability\n",
    "        total_correct += (predicted == targets).sum().item()\n",
    "        total_samples += targets.size(0)\n",
    "\n",
    "    accuracy = total_correct / total_samples\n",
    "    print(f'Epoch [{epoch+1}/{num_epochs}] - Loss: {loss.item()} - Accuracy: {accuracy}')\n",
    "\n",
    "# Evaluate the model on the test data\n",
    "model.eval()\n",
    "total_correct = 0\n",
    "total_samples = 0\n",
    "with torch.no_grad():\n",
    "    for batch in test_loader:\n",
    "        inputs, targets = batch\n",
    "        outputs = model(inputs)\n",
    "        _, predicted = torch.max(outputs, 1)\n",
    "        total_correct += (predicted == targets).sum().item()\n",
    "        total_samples += targets.size(0)\n",
    "\n",
    "test_accuracy = total_correct / total_samples\n",
    "print(f'Test Accuracy: {test_accuracy}')\n"
   ]
  },
  {
   "cell_type": "markdown",
   "id": "6d7b006e",
   "metadata": {},
   "source": [
    "### Task 4.3\n",
    "\n",
    "### Classification by Oversampling\n",
    "This model uses the oversampling method to increase the accuracy, I am using the builtin RandomForestClassifier here just to show that oversampling can be done in cases where the data is skewed"
   ]
  },
  {
   "cell_type": "code",
   "execution_count": 14,
   "id": "23b48fd6",
   "metadata": {},
   "outputs": [
    {
     "name": "stdout",
     "output_type": "stream",
     "text": [
      "Test Accuracy: 0.8743718592964824\n"
     ]
    }
   ],
   "source": [
    "import pandas as pd\n",
    "from sklearn.ensemble import RandomForestClassifier\n",
    "from sklearn.model_selection import train_test_split\n",
    "from sklearn.metrics import accuracy_score\n",
    "from imblearn.over_sampling import RandomOverSampler\n",
    "\n",
    "\n",
    "# Define the input columns and the target column\n",
    "input_cols = [\"X\", \"Y\", \"Time\", \"Area_Command\", \"NIBRSOffenseCode\", \"DayOfWeek\"]\n",
    "output_col = \"VictimCount\"\n",
    "\n",
    "# Create feature matrix (X) and target vector (y)\n",
    "X = df[input_cols]\n",
    "y = df[output_col]\n",
    "\n",
    "# Initialize and apply RandomOverSampler to balance class distribution\n",
    "oversampler = RandomOverSampler(random_state=42)\n",
    "X_resampled, y_resampled = oversampler.fit_resample(X, y)\n",
    "\n",
    "X_train, X_test, y_train, y_test = train_test_split(X_resampled, y_resampled, test_size=0.2, random_state=42)\n",
    "\n",
    "# Initialize and train the Random Forest classifier\n",
    "rf_classifier = RandomForestClassifier(n_estimators=100, random_state=42)\n",
    "rf_classifier.fit(X_train, y_train)\n",
    "\n",
    "# Make predictions on the test set\n",
    "y_pred = rf_classifier.predict(X_test)\n",
    "\n",
    "# Calculate accuracy on the test set\n",
    "accuracy = accuracy_score(y_test, y_pred)\n",
    "print(f'Test Accuracy: {accuracy}')"
   ]
  },
  {
   "cell_type": "markdown",
   "id": "84d2a304-6197-4cd9-b31e-745f7862f213",
   "metadata": {},
   "source": [
    "## Task 5"
   ]
  },
  {
   "cell_type": "markdown",
   "id": "d6e4ef16-d828-45e5-bd58-1c49fcfecf52",
   "metadata": {},
   "source": [
    "### Reflect on your results\n",
    "\n"
   ]
  },
  {
   "cell_type": "markdown",
   "id": "92d75854",
   "metadata": {},
   "source": [
    "### Write a paragraph about your experience with tasks 3 and 4. How do you compare the results? Which one worked better? Why?\n",
    "\n",
    "* Task 3 involved training a deep regression model to predict a continuous numeric value, specifically \"VictimCount.\" The model used multiple hidden layers and ReLU activation functions and was trained with the Mean Squared Error loss function. \n",
    "\n",
    "* Task 4, on the other hand, focused on classification, discretizing \"VictimCount\" into three classes (Low, Medium, High) and training a classification model using the Cross-Entropy loss function.\n",
    "\n",
    "* Comparing results was a hard task, I have done 2 models for classification, 4.1 and 4.2. Where 4.1 does a regular classification which didn't yeild a good accuracy because of what they call Class Imbalance issue, where first few classes have more data samples and the last few classes have very few samples.\n",
    "\n",
    "* How to solve class imbalance? \n",
    "There are multiple ways to solve class imbalance issue, some of them are oversampling, undersampling, class weighting, which will help solving this issue. \n",
    "\n",
    "* The way I solved it is by grouping/descritizing the classes, I have grouped class 0 and 1 as Low, 2 to 3 as Medium and 4+ as High victim count, which has helped me achieve better accuracy. "
   ]
  },
  {
   "cell_type": "markdown",
   "id": "a284ee3d",
   "metadata": {},
   "source": [
    "You can see below that the data is skewed and it is not distributed properly or you can even call it class imbalance problem"
   ]
  },
  {
   "cell_type": "code",
   "execution_count": 15,
   "id": "be0e6411",
   "metadata": {},
   "outputs": [
    {
     "data": {
      "text/plain": [
       "VictimCount\n",
       "0    142\n",
       "1    100\n",
       "3     21\n",
       "2      9\n",
       "4      1\n",
       "5      1\n",
       "6      1\n",
       "Name: count, dtype: int64"
      ]
     },
     "execution_count": 15,
     "metadata": {},
     "output_type": "execute_result"
    }
   ],
   "source": [
    "value_counts = df['VictimCount'].value_counts()\n",
    "value_counts"
   ]
  },
  {
   "cell_type": "markdown",
   "id": "576d27bd",
   "metadata": {},
   "source": [
    "Below is the graphical representation of the distribution of output classes "
   ]
  },
  {
   "cell_type": "code",
   "execution_count": 16,
   "id": "5c86c7c6",
   "metadata": {},
   "outputs": [
    {
     "data": {
      "image/png": "[encoded data removed]",
      "text/plain": [
       "<Figure size 640x480 with 1 Axes>"
      ]
     },
     "metadata": {},
     "output_type": "display_data"
    }
   ],
   "source": [
    "import matplotlib.pyplot as plt\n",
    "import numpy as np\n",
    "from scipy.stats import norm\n",
    "\n",
    "# Extract the VictimCount column from your DataFrame\n",
    "victim_count = df[\"VictimCount\"]\n",
    "\n",
    "# Plot the histogram of VictimCount\n",
    "plt.hist(victim_count, bins=7, density=True, edgecolor=\"black\", alpha=0.7, label=\"VictimCount Distribution\")\n",
    "\n",
    "# Fit a normal distribution to the data\n",
    "mu, std = norm.fit(victim_count)\n",
    "xmin, xmax = plt.xlim()\n",
    "x = np.linspace(xmin, xmax, 100)\n",
    "p = norm.pdf(x, mu, std)\n",
    "plt.plot(x, p, 'k', linewidth=2, label=\"Distribution Fit\")\n",
    "\n",
    "plt.xlabel(\"VictimCount\")\n",
    "plt.ylabel(\"Probability\")\n",
    "plt.title(\"Distribution of VictimCount and Distribution Fit\")\n",
    "plt.legend()\n",
    "plt.show()\n"
   ]
  },
  {
   "cell_type": "markdown",
   "id": "38aea720",
   "metadata": {},
   "source": [
    "### Write a piece of code that finds an example of a  miss-classification. Calculate the probabilities for the output classes and plot them in a bar chart. Also, indicate what is the correct class label."
   ]
  },
  {
   "cell_type": "code",
   "execution_count": 17,
   "id": "852bd31d",
   "metadata": {},
   "outputs": [
    {
     "data": {
      "image/png": "[encoded data removed]",
      "text/plain": [
       "<Figure size 640x480 with 1 Axes>"
      ]
     },
     "metadata": {},
     "output_type": "display_data"
    },
    {
     "name": "stdout",
     "output_type": "stream",
     "text": [
      "Misclassified Example:\n",
      "Predicted Class: 0\n",
      "Correct Class: 1.0\n"
     ]
    }
   ],
   "source": [
    "import matplotlib.pyplot as plt\n",
    "\n",
    "# Define a function to find a misclassified example\n",
    "def find_misclassified_example(model, test_loader):\n",
    "    model.eval()\n",
    "    misclassified_example = None\n",
    "\n",
    "    with torch.no_grad():\n",
    "        for batch in test_loader:\n",
    "            inputs, targets = batch\n",
    "            outputs = model(inputs)\n",
    "            _, predicted = torch.max(outputs, 1)\n",
    "\n",
    "            for i in range(len(targets)):\n",
    "                if predicted[i] != targets[i]:\n",
    "                    misclassified_example = {\n",
    "                        \"inputs\": inputs[i],\n",
    "                        \"predicted_class\": predicted[i],\n",
    "                        \"correct_class\": targets[i],\n",
    "                        \"class_probabilities\": torch.softmax(outputs[i], dim=0)\n",
    "                    }\n",
    "                    break  # Break on the first misclassification found\n",
    "\n",
    "            if misclassified_example is not None:\n",
    "                break\n",
    "\n",
    "    return misclassified_example\n",
    "\n",
    "# Find a misclassified example\n",
    "misclassified_example = find_misclassified_example(model, test_loader)\n",
    "\n",
    "if misclassified_example is not None:\n",
    "    inputs = misclassified_example[\"inputs\"]\n",
    "    predicted_class = misclassified_example[\"predicted_class\"]\n",
    "    correct_class = misclassified_example[\"correct_class\"]\n",
    "    class_probabilities = misclassified_example[\"class_probabilities\"]\n",
    "\n",
    "    # Create a bar chart to visualize class probabilities\n",
    "    classes = [str(i) for i in range(num_classes)]  # Assuming class labels are integers 0 to num_classes-1\n",
    "    plt.bar(classes, class_probabilities)\n",
    "    plt.xlabel('Class')\n",
    "    plt.ylabel('Probability')\n",
    "    plt.title('Class Probabilities for Misclassified Example')\n",
    "    plt.show()\n",
    "\n",
    "    print(f'Misclassified Example:')\n",
    "    print(f'Predicted Class: {predicted_class}')\n",
    "    print(f'Correct Class: {correct_class}')\n",
    "else:\n",
    "    print('No misclassified examples found.')\n"
   ]
  },
  {
   "cell_type": "markdown",
   "id": "5b000b0b-fa37-4f8d-8ec7-0a1e6e749424",
   "metadata": {},
   "source": [
    "## Task 6: Exploring the patterns in raw data\n"
   ]
  },
  {
   "cell_type": "markdown",
   "id": "ba600406",
   "metadata": {},
   "source": [
    "#### Plot the crime incidents as a `scatter` plot using the corrdinates. Use the color property of each datapoint to indicate the day of the week. Is there a pattern in the plot?"
   ]
  },
  {
   "cell_type": "code",
   "execution_count": 18,
   "id": "5b396aaf-5d1a-49cd-ae1d-b63af7e561f5",
   "metadata": {},
   "outputs": [
    {
     "data": {
      "image/png": "[encoded data removed]",
      "text/plain": [
       "<Figure size 1000x600 with 1 Axes>"
      ]
     },
     "metadata": {},
     "output_type": "display_data"
    }
   ],
   "source": [
    "import matplotlib.pyplot as plt\n",
    "import matplotlib.patches as mpatches\n",
    "import numpy as np\n",
    "\n",
    "# Define a color map for different days of the week\n",
    "day_of_week_colors = ['b', 'g', 'r', 'c', 'm', 'y', 'k']\n",
    "day_names = ['Sun', 'Mon', 'Tue', 'Wed', 'Thu', 'Fri', 'Sat']\n",
    "\n",
    "# Map day of the week values to colors in df_normalized\n",
    "df['DayOfWeekColor'] = df['DayOfWeek'].apply(lambda day: day_of_week_colors[day])\n",
    "\n",
    "# Scatter plot using data from df_normalized\n",
    "plt.figure(figsize=(10, 6))\n",
    "scatter = plt.scatter(df['X'], df['Y'], c=df['DayOfWeekColor'], s=50, alpha=0.7)\n",
    "\n",
    "# Create legend handles\n",
    "legend_handles = [mpatches.Patch(color=c, label=d) for c, d in zip(day_of_week_colors, day_names)]\n",
    "\n",
    "# Customize the plot\n",
    "plt.title('Crime Incidents by Day of the Week')\n",
    "plt.xlabel('Longitude (X)')\n",
    "plt.ylabel('Latitude (Y)')\n",
    "\n",
    "# Use the legend_handles to create the legend\n",
    "plt.legend(handles=legend_handles, title='Day of the Week')\n",
    "\n",
    "plt.grid(True)\n",
    "\n",
    "# Show the plot\n",
    "plt.show()\n"
   ]
  },
  {
   "cell_type": "markdown",
   "id": "8afd2499",
   "metadata": {},
   "source": [
    "The graph shows that the crimes are happening around the same area of location -115.2, 36 and the day of the week doesn't have much impact but majority of the crimes happening on weekdays"
   ]
  },
  {
   "cell_type": "markdown",
   "id": "41c5b6ec",
   "metadata": {},
   "source": [
    "#### Now make a new scatter plot and use the color property of each datapoint to indicate the number of persons involved in the incident. Is there a pattern here?"
   ]
  },
  {
   "cell_type": "code",
   "execution_count": 19,
   "id": "181206da",
   "metadata": {
    "scrolled": false
   },
   "outputs": [
    {
     "data": {
      "image/png": "[encoded data removed]",
      "text/plain": [
       "<Figure size 1000x600 with 2 Axes>"
      ]
     },
     "metadata": {},
     "output_type": "display_data"
    }
   ],
   "source": [
    "import matplotlib.pyplot as plt\n",
    "\n",
    "# Scatter plot with color indicating the number of persons involved\n",
    "plt.figure(figsize=(10, 6))\n",
    "scatter = plt.scatter(df['X'], df['Y'], c=df['VictimCount'], cmap='viridis', s=50, alpha=0.7)\n",
    "\n",
    "# Add colorbar to show the mapping of colors to VictimCount values\n",
    "cbar = plt.colorbar(scatter)\n",
    "cbar.set_label('VictimCount')\n",
    "\n",
    "# Customize the plot\n",
    "plt.title('Crime Incidents by VictimCount')\n",
    "plt.xlabel('Longitude (X)')\n",
    "plt.ylabel('Latitude (Y)')\n",
    "plt.grid(True)\n",
    "\n",
    "# Show the plot\n",
    "plt.show()\n"
   ]
  },
  {
   "cell_type": "markdown",
   "id": "f29d099a",
   "metadata": {},
   "source": [
    "Crimes are more where 0 or 1 victims are involved and all the crimes are happening around the same area around -115.2, 36.25"
   ]
  },
  {
   "cell_type": "markdown",
   "id": "36629b00",
   "metadata": {},
   "source": [
    "#### Use numpy (or pandas if you like) to sort the number of crimes reported by the day of the week. What days are most frequent?"
   ]
  },
  {
   "cell_type": "code",
   "execution_count": 20,
   "id": "51702099",
   "metadata": {},
   "outputs": [
    {
     "name": "stdout",
     "output_type": "stream",
     "text": [
      "   DayOfWeek  CrimeCount\n",
      "4          4          51\n",
      "3          3          44\n",
      "5          5          43\n",
      "0          0          40\n",
      "1          1          37\n",
      "2          2          32\n",
      "6          6          28\n"
     ]
    }
   ],
   "source": [
    "import pandas as pd\n",
    "\n",
    "# Assuming df_normalized contains the data\n",
    "day_counts = df_normalized['DayOfWeek'].value_counts().sort_index()\n",
    "\n",
    "# Create a DataFrame for easier analysis and display\n",
    "day_counts_df = pd.DataFrame({'DayOfWeek': day_counts.index, 'CrimeCount': day_counts.values})\n",
    "\n",
    "# Sort by the number of crimes reported\n",
    "sorted_day_counts = day_counts_df.sort_values(by='CrimeCount', ascending=False)\n",
    "\n",
    "# Display the days with the most frequent crimes\n",
    "print(sorted_day_counts)\n"
   ]
  },
  {
   "cell_type": "markdown",
   "id": "77759c60",
   "metadata": {},
   "source": [
    "Day 4 has the most crimes reported"
   ]
  }
 ],
 "metadata": {
  "kernelspec": {
   "display_name": "Python 3 (ipykernel)",
   "language": "python",
   "name": "python3"
  },
  "language_info": {
   "codemirror_mode": {
    "name": "ipython",
    "version": 3
   },
   "file_extension": ".py",
   "mimetype": "text/x-python",
   "name": "python",
   "nbconvert_exporter": "python",
   "pygments_lexer": "ipython3",
   "version": "3.11.4"
  }
 },
 "nbformat": 4,
 "nbformat_minor": 5
}
